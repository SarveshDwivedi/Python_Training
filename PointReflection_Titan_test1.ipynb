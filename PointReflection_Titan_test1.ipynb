{
 "cells": [
  {
   "cell_type": "code",
   "execution_count": 1,
   "metadata": {},
   "outputs": [
    {
     "name": "stdout",
     "output_type": "stream",
     "text": [
      "Enter N: 2\n",
      "Enter coordinates: 1 1 2 2\n",
      "Enter coordinates: 2 2 3 3\n",
      "3 3\n",
      "4 4\n"
     ]
    }
   ],
   "source": [
    "def calculate(inputlist):\n",
    "        result_x = 2 * inputlist[2] - inputlist[0]\n",
    "        result_y = 2 * inputlist[3] - inputlist[1]\n",
    "        print(\"{0} {1}\".format(result_x ,result_y))\n",
    "        return [result_x ,result_y]\n",
    "\n",
    "def validateInput(coordinates):\n",
    "    for n in coordinates:\n",
    "        if n>=100 or n<=-100:\n",
    "            return False\n",
    "    else:\n",
    "        return True\n",
    "    \n",
    "n = int(input('Enter N: '))\n",
    "\n",
    "inputrows = []\n",
    "results =[]\n",
    "\n",
    "if n>=0 and n<=15:\n",
    "    m=n\n",
    "    \n",
    "    while n>0:\n",
    "        inputrow = input(\"Enter coordinates: \")\n",
    "        inputlist = list(map(int,inputrow.split(' ')))\n",
    "        if validateInput(inputlist):\n",
    "            inputrows.append(inputlist)\n",
    "            n=n-1\n",
    "        else:\n",
    "            print(\"Coordinates must be in range of -100 to 100\")\n",
    "        \n",
    "    for i in range(m):\n",
    "        calculate(inputrows[i])\n",
    "    \n",
    "else:\n",
    "    print(\"N must be in range of 1 to 15\")"
   ]
  },
  {
   "cell_type": "code",
   "execution_count": 11,
   "metadata": {},
   "outputs": [
    {
     "data": {
      "text/plain": [
       "[2, 2]"
      ]
     },
     "execution_count": 11,
     "metadata": {},
     "output_type": "execute_result"
    }
   ],
   "source": [
    "results[0]"
   ]
  },
  {
   "cell_type": "code",
   "execution_count": 14,
   "metadata": {},
   "outputs": [
    {
     "data": {
      "image/png": "[encoded data removed]",
      "text/plain": [
       "<Figure size 432x288 with 1 Axes>"
      ]
     },
     "metadata": {},
     "output_type": "display_data"
    }
   ],
   "source": [
    "import matplotlib.pyplot as plt\n",
    "plt.plot(results[0],\"*\")\n",
    "plt.plot(results[1],\"*\")\n",
    "plt.show()"
   ]
  },
  {
   "cell_type": "code",
   "execution_count": null,
   "metadata": {},
   "outputs": [],
   "source": []
  }
 ],
 "metadata": {
  "kernelspec": {
   "display_name": "Python 3",
   "language": "python",
   "name": "python3"
  },
  "language_info": {
   "codemirror_mode": {
    "name": "ipython",
    "version": 3
   },
   "file_extension": ".py",
   "mimetype": "text/x-python",
   "name": "python",
   "nbconvert_exporter": "python",
   "pygments_lexer": "ipython3",
   "version": "3.6.5"
  }
 },
 "nbformat": 4,
 "nbformat_minor": 2
}
