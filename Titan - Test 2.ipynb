{
 "cells": [
  {
   "cell_type": "code",
   "execution_count": 7,
   "metadata": {},
   "outputs": [
    {
     "name": "stdout",
     "output_type": "stream",
     "text": [
      "6\n",
      "8\n",
      "p must be greater or equal 1 and less or equal 6\n"
     ]
    }
   ],
   "source": [
    "import os\n",
    "import sys\n",
    "\n",
    "#\n",
    "# Complete the pageCount function below.\n",
    "#\n",
    "def pageCount(n, p):\n",
    "    if n>=1 and n<=pow(10,5):\n",
    "        if p>=1 and n>=p:\n",
    "            result1 = int(p/2)\n",
    "            result2 = int((n-p)/2)\n",
    "            return result2 if result1>result2 else result1\n",
    "        else:\n",
    "            return \"p must be greater or equal 1 and less or equal {}\".format(n)\n",
    "    else:\n",
    "        return \"n must be greater or equal 1 and less than or equal 100000\"\n",
    "\n",
    "# n = int(input())\n",
    "# p = int(input())\n",
    "# result = pageCount(n, p)\n",
    "# print(result)\n",
    "\n",
    "if __name__ == '__main__':\n",
    "    fptr = open(os.environ['OUTPUT_PATH'], 'w')\n",
    "    n = int(input())\n",
    "    p = int(input())\n",
    "    result = pageCount(n, p)\n",
    "    fptr.write(str(result) + '\\n')\n",
    "    fptr.close()\n",
    "\n"
   ]
  },
  {
   "cell_type": "code",
   "execution_count": null,
   "metadata": {},
   "outputs": [],
   "source": []
  }
 ],
 "metadata": {
  "kernelspec": {
   "display_name": "Python 3",
   "language": "python",
   "name": "python3"
  },
  "language_info": {
   "codemirror_mode": {
    "name": "ipython",
    "version": 3
   },
   "file_extension": ".py",
   "mimetype": "text/x-python",
   "name": "python",
   "nbconvert_exporter": "python",
   "pygments_lexer": "ipython3",
   "version": "3.6.5"
  }
 },
 "nbformat": 4,
 "nbformat_minor": 2
}
